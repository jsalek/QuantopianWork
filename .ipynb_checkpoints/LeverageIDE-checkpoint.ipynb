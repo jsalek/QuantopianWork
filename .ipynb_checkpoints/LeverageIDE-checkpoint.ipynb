{
 "cells": [
  {
   "cell_type": "code",
   "execution_count": null,
   "metadata": {},
   "outputs": [],
   "source": [
    "def initialize(context):\n",
    "    context.amzn = sid(16841)\n",
    "    context.ibm = sid(3766)\n",
    "    \n",
    "    schedule_function(rebalance, date_rules.every_day(), time_rules.market_open())\n",
    "    schedule_function(record_vars, date_rules.every_day(), time_rules.market_close())\n",
    "    \n",
    "\n",
    "def rebalance(context,data):\n",
    "    order_target_percent(context.amzn, 0.5)\n",
    "    order_target_percent(context.ibm, -0.5)\n",
    "    \n",
    "    \n",
    "def record_vars(context,data):\n",
    "    record(amzn_close = data.current(context.amzn,\"close\"))\n",
    "    record(ibm_close = data.current(context.ibm,\"close\"))\n",
    "    record(Leverage = context.account.leverage)\n",
    "    record(Exposure = context.account.net_leverage)"
   ]
  }
 ],
 "metadata": {
  "kernelspec": {
   "display_name": "Python 3",
   "language": "python",
   "name": "python3"
  },
  "language_info": {
   "codemirror_mode": {
    "name": "ipython",
    "version": 3
   },
   "file_extension": ".py",
   "mimetype": "text/x-python",
   "name": "python",
   "nbconvert_exporter": "python",
   "pygments_lexer": "ipython3",
   "version": "3.7.1"
  }
 },
 "nbformat": 4,
 "nbformat_minor": 2
}
