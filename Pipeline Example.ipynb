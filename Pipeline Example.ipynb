{
 "cells": [
  {
   "cell_type": "code",
   "execution_count": null,
   "metadata": {},
   "outputs": [],
   "source": [
    "from quantopian.pipeline import Pipeline\n",
    "from quantopian.research import run_pipeline\n",
    "from quantopian.pipeline.data.builtin import USEquityPricing"
   ]
  },
  {
   "cell_type": "code",
   "execution_count": null,
   "metadata": {},
   "outputs": [],
   "source": [
    "from quantopian.pipeline.filters import Q1500US"
   ]
  },
  {
   "cell_type": "code",
   "execution_count": null,
   "metadata": {},
   "outputs": [],
   "source": [
    "universe = Q1500US()"
   ]
  },
  {
   "cell_type": "code",
   "execution_count": null,
   "metadata": {},
   "outputs": [],
   "source": [
    "from quantopian.pipeline.data import morningstar"
   ]
  },
  {
   "cell_type": "code",
   "execution_count": null,
   "metadata": {},
   "outputs": [],
   "source": [
    "sector = morningstar.asset_classification.morningstar_sector_code.latest"
   ]
  },
  {
   "cell_type": "code",
   "execution_count": null,
   "metadata": {},
   "outputs": [],
   "source": [
    "energy_sector = sector.eq(309)"
   ]
  },
  {
   "cell_type": "code",
   "execution_count": null,
   "metadata": {},
   "outputs": [],
   "source": [
    "from quantopian.pipeline.factors import SimpleMovingAverage,AverageDollarVolume"
   ]
  },
  {
   "cell_type": "code",
   "execution_count": null,
   "metadata": {},
   "outputs": [],
   "source": [
    "dollar_volume = AverageDollarVolume(window_length=30)"
   ]
  },
  {
   "cell_type": "code",
   "execution_count": null,
   "metadata": {},
   "outputs": [],
   "source": [
    "high_dollar_volume = dollar_volume.percentile_between(90,100)"
   ]
  },
  {
   "cell_type": "code",
   "execution_count": null,
   "metadata": {},
   "outputs": [],
   "source": [
    "top_open_prices = USEquityPricing.open.latest.top(50,mask = high_dollar_volume)"
   ]
  },
  {
   "cell_type": "code",
   "execution_count": null,
   "metadata": {},
   "outputs": [],
   "source": [
    "high_close_price = USEquityPricing.close.latest.percentile_between(90,100,mask=top_open_prices)"
   ]
  },
  {
   "cell_type": "code",
   "execution_count": null,
   "metadata": {},
   "outputs": [],
   "source": []
  },
  {
   "cell_type": "code",
   "execution_count": null,
   "metadata": {},
   "outputs": [],
   "source": [
    "def make_pipeline():\n",
    "    \n",
    "    #Universe Q1500US\n",
    "    base_universe = Q1500US()\n",
    "    #Energy sector stocks\n",
    "    energy_sector = sector.eq(309)\n",
    "    #Make a mask of 1500 US and energy\n",
    "    base_energy = base_universe & energy_sector\n",
    "    #Dollar Volume grab the info\n",
    "    dollar_volume = AverageDollarVolume(window_length = 30)\n",
    "    #Grab the top 5% in avg dollar volume\n",
    "    high_dollar_volume = dollar_volume.percentile_between(95,100)\n",
    "    #Combine the filters\n",
    "    top_five_base_energy = base_energy & high_dollar_volume\n",
    "    #10 day mean close\n",
    "    mean_10 = SimpleMovingAverage(inputs = [USEquityPricing.close], window_length=10,mask = top_five_base_energy)\n",
    "    #30 day mean close\n",
    "    mean_30 = SimpleMovingAverage(inputs = [USEquityPricing.close], window_length=30,mask = top_five_base_energy)\n",
    "    #Percent Difference\n",
    "    percent_difference = (mean_10 - mean_30)/mean_30\n",
    "    #List of shorts\n",
    "    shorts = percent_difference < 0\n",
    "    #List of Longs\n",
    "    longs = percent_difference > 0\n",
    "    #Final Mask/Filter for anything in shorts or longs\n",
    "    securities_to_trade = (shorts | longs)\n",
    "    #Return pipeline\n",
    "    return Pipeline(columns={\n",
    "        'longs' : longs,\n",
    "        'shorts' : shorts,\n",
    "        'perc_diff' : percent_difference\n",
    "    }, screen = securities_to_trade)"
   ]
  },
  {
   "cell_type": "code",
   "execution_count": null,
   "metadata": {},
   "outputs": [],
   "source": [
    "result = run_pipeline(make_pipeline(), '2015-05-05', '2015-05-05')\n",
    "result"
   ]
  },
  {
   "cell_type": "code",
   "execution_count": null,
   "metadata": {},
   "outputs": [],
   "source": []
  }
 ],
 "metadata": {
  "kernelspec": {
   "display_name": "Python 3",
   "language": "python",
   "name": "python3"
  },
  "language_info": {
   "codemirror_mode": {
    "name": "ipython",
    "version": 3
   },
   "file_extension": ".py",
   "mimetype": "text/x-python",
   "name": "python",
   "nbconvert_exporter": "python",
   "pygments_lexer": "ipython3",
   "version": "3.7.1"
  }
 },
 "nbformat": 4,
 "nbformat_minor": 2
}
